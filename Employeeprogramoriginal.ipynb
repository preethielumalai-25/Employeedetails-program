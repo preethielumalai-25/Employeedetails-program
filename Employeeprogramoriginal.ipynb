{
 "cells": [
  {
   "cell_type": "code",
   "execution_count": 2,
   "id": "d1c95971",
   "metadata": {},
   "outputs": [
    {
     "name": "stdout",
     "output_type": "stream",
     "text": [
      "Enter the name: aaron\n",
      "['AARON,  JEFFERY M', 'SERGEANT', 'POLICE', '$1,01,442', '09/26/2005', '06-01-2016', 'SALARY', 'Fulltime-Regular']\n"
     ]
    }
   ],
   "source": [
    "from csv import reader\n",
    "\n",
    "\n",
    "def get_data(name):\n",
    "    with open('EmployeeSalaryData.csv', 'r') as read_obj:\n",
    "        csv_reader = reader(read_obj)\n",
    "        header = next(csv_reader)\n",
    "        if header != None:\n",
    "            for row in csv_reader:\n",
    "                row_name = row[0]\n",
    "                if row_name.split(',')[0] == name:\n",
    "                    return row\n",
    "                elif row_name.split(',')[1].strip() == name:\n",
    "                    return row\n",
    "\n",
    "\n",
    "name = input('Enter the name: ').upper()\n",
    "\n",
    "data = get_data(name)\n",
    "\n",
    "print(data)"
   ]
  },
  {
   "cell_type": "code",
   "execution_count": null,
   "id": "a5c4867d",
   "metadata": {},
   "outputs": [],
   "source": []
  },
  {
   "cell_type": "code",
   "execution_count": null,
   "id": "9bdf8028",
   "metadata": {},
   "outputs": [],
   "source": []
  }
 ],
 "metadata": {
  "kernelspec": {
   "display_name": "Python 3",
   "language": "python",
   "name": "python3"
  },
  "language_info": {
   "codemirror_mode": {
    "name": "ipython",
    "version": 3
   },
   "file_extension": ".py",
   "mimetype": "text/x-python",
   "name": "python",
   "nbconvert_exporter": "python",
   "pygments_lexer": "ipython3",
   "version": "3.8.8"
  }
 },
 "nbformat": 4,
 "nbformat_minor": 5
}
